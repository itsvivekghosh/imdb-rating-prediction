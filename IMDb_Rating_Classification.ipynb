{
  "nbformat": 4,
  "nbformat_minor": 0,
  "metadata": {
    "kernelspec": {
      "display_name": "Python 3",
      "language": "python",
      "name": "python3"
    },
    "language_info": {
      "codemirror_mode": {
        "name": "ipython",
        "version": 3
      },
      "file_extension": ".py",
      "mimetype": "text/x-python",
      "name": "python",
      "nbconvert_exporter": "python",
      "pygments_lexer": "ipython3",
      "version": "3.7.4"
    },
    "colab": {
      "name": "IMDb Rating Classification.ipynb",
      "provenance": [],
      "collapsed_sections": [],
      "include_colab_link": true
    },
    "accelerator": "GPU"
  },
  "cells": [
    {
      "cell_type": "markdown",
      "metadata": {
        "id": "view-in-github",
        "colab_type": "text"
      },
      "source": [
        "<a href=\"https://colab.research.google.com/github/itsvivekghosh/imdb-rating-prediction/blob/master/IMDb_Rating_Classification.ipynb\" target=\"_parent\"><img src=\"https://colab.research.google.com/assets/colab-badge.svg\" alt=\"Open In Colab\"/></a>"
      ]
    },
    {
      "cell_type": "code",
      "metadata": {
        "id": "x2ukFCX6xItR",
        "colab_type": "code",
        "colab": {
          "base_uri": "https://localhost:8080/",
          "height": 33
        },
        "outputId": "fb18aa16-734d-4df5-ceb1-1c59fceeea5a"
      },
      "source": [
        "from keras.datasets import imdb\n",
        "import keras"
      ],
      "execution_count": 1,
      "outputs": [
        {
          "output_type": "stream",
          "text": [
            "Using TensorFlow backend.\n"
          ],
          "name": "stderr"
        }
      ]
    },
    {
      "cell_type": "code",
      "metadata": {
        "id": "RLaUFk-0xItc",
        "colab_type": "code",
        "colab": {}
      },
      "source": [
        "max_features, maxlen = 5000, 400"
      ],
      "execution_count": 0,
      "outputs": []
    },
    {
      "cell_type": "code",
      "metadata": {
        "id": "PWu3PxKZxItj",
        "colab_type": "code",
        "colab": {
          "base_uri": "https://localhost:8080/",
          "height": 33
        },
        "outputId": "d714e972-5ad4-4bee-c85e-e9af55a94f34"
      },
      "source": [
        "(x_train, y_train), (x_test, y_test)=imdb.load_data(num_words=max_features)\n",
        "x_train.shape"
      ],
      "execution_count": 3,
      "outputs": [
        {
          "output_type": "execute_result",
          "data": {
            "text/plain": [
              "(25000,)"
            ]
          },
          "metadata": {
            "tags": []
          },
          "execution_count": 3
        }
      ]
    },
    {
      "cell_type": "code",
      "metadata": {
        "id": "sukTfrDrxItr",
        "colab_type": "code",
        "colab": {}
      },
      "source": [
        "from keras.preprocessing.sequence import pad_sequences\n",
        "x_train=pad_sequences(x_train, maxlen=maxlen)\n",
        "x_test=pad_sequences(x_test, maxlen=maxlen)"
      ],
      "execution_count": 0,
      "outputs": []
    },
    {
      "cell_type": "code",
      "metadata": {
        "id": "aKzKi9e3xItx",
        "colab_type": "code",
        "colab": {}
      },
      "source": [
        "from keras.models import Sequential\n",
        "from keras.layers import Dense, Embedding, Bidirectional, Dropout, LSTM"
      ],
      "execution_count": 0,
      "outputs": []
    },
    {
      "cell_type": "code",
      "metadata": {
        "id": "OzAgQNioxIt3",
        "colab_type": "code",
        "colab": {}
      },
      "source": [
        "model=Sequential()"
      ],
      "execution_count": 0,
      "outputs": []
    },
    {
      "cell_type": "code",
      "metadata": {
        "id": "tLaVXRzxxIuB",
        "colab_type": "code",
        "colab": {
          "base_uri": "https://localhost:8080/",
          "height": 318
        },
        "outputId": "d79f385e-9b8d-4eff-9794-2e0886d136e5"
      },
      "source": [
        "model.add(Embedding(input_dim=max_features, output_dim=100, input_length=maxlen))\n",
        "model.add(LSTM(64))\n",
        "model.add(Dense(32, activation=\"relu\"))\n",
        "model.add(Dropout(0.25))\n",
        "model.add(Dense(1, activation='sigmoid'))\n",
        "\n",
        "model.compile(loss=keras.losses.binary_crossentropy, optimizer=keras.optimizers.Adam(lr=0.001), metrics=['accuracy'])\n",
        "model.summary()"
      ],
      "execution_count": 7,
      "outputs": [
        {
          "output_type": "stream",
          "text": [
            "Model: \"sequential_1\"\n",
            "_________________________________________________________________\n",
            "Layer (type)                 Output Shape              Param #   \n",
            "=================================================================\n",
            "embedding_1 (Embedding)      (None, 400, 100)          500000    \n",
            "_________________________________________________________________\n",
            "lstm_1 (LSTM)                (None, 64)                42240     \n",
            "_________________________________________________________________\n",
            "dense_1 (Dense)              (None, 32)                2080      \n",
            "_________________________________________________________________\n",
            "dropout_1 (Dropout)          (None, 32)                0         \n",
            "_________________________________________________________________\n",
            "dense_2 (Dense)              (None, 1)                 33        \n",
            "=================================================================\n",
            "Total params: 544,353\n",
            "Trainable params: 544,353\n",
            "Non-trainable params: 0\n",
            "_________________________________________________________________\n"
          ],
          "name": "stdout"
        }
      ]
    },
    {
      "cell_type": "code",
      "metadata": {
        "id": "SaiMjl6uxIuK",
        "colab_type": "code",
        "colab": {
          "base_uri": "https://localhost:8080/",
          "height": 438
        },
        "outputId": "8ae226b2-ae2a-41ef-a5c1-4ee1c3df5460"
      },
      "source": [
        "model.fit(x_train, y_train, epochs=10, validation_data=(x_test, y_test), batch_size=100)"
      ],
      "execution_count": 8,
      "outputs": [
        {
          "output_type": "stream",
          "text": [
            "/usr/local/lib/python3.6/dist-packages/tensorflow/python/framework/indexed_slices.py:434: UserWarning: Converting sparse IndexedSlices to a dense Tensor of unknown shape. This may consume a large amount of memory.\n",
            "  \"Converting sparse IndexedSlices to a dense Tensor of unknown shape. \"\n"
          ],
          "name": "stderr"
        },
        {
          "output_type": "stream",
          "text": [
            "Train on 25000 samples, validate on 25000 samples\n",
            "Epoch 1/10\n",
            "25000/25000 [==============================] - 160s 6ms/step - loss: 0.4609 - accuracy: 0.7793 - val_loss: 0.3103 - val_accuracy: 0.8717\n",
            "Epoch 2/10\n",
            "25000/25000 [==============================] - 160s 6ms/step - loss: 0.2768 - accuracy: 0.8908 - val_loss: 0.2975 - val_accuracy: 0.8756\n",
            "Epoch 3/10\n",
            "25000/25000 [==============================] - 160s 6ms/step - loss: 0.2186 - accuracy: 0.9160 - val_loss: 0.3065 - val_accuracy: 0.8694\n",
            "Epoch 4/10\n",
            "25000/25000 [==============================] - 161s 6ms/step - loss: 0.1844 - accuracy: 0.9296 - val_loss: 0.3439 - val_accuracy: 0.8680\n",
            "Epoch 5/10\n",
            "25000/25000 [==============================] - 160s 6ms/step - loss: 0.1540 - accuracy: 0.9410 - val_loss: 0.3984 - val_accuracy: 0.8636\n",
            "Epoch 6/10\n",
            "25000/25000 [==============================] - 160s 6ms/step - loss: 0.1291 - accuracy: 0.9514 - val_loss: 0.4093 - val_accuracy: 0.8643\n",
            "Epoch 7/10\n",
            "25000/25000 [==============================] - 160s 6ms/step - loss: 0.1174 - accuracy: 0.9570 - val_loss: 0.4094 - val_accuracy: 0.8595\n",
            "Epoch 8/10\n",
            "25000/25000 [==============================] - 159s 6ms/step - loss: 0.1343 - accuracy: 0.9498 - val_loss: 0.4586 - val_accuracy: 0.8494\n",
            "Epoch 9/10\n",
            "25000/25000 [==============================] - 159s 6ms/step - loss: 0.0872 - accuracy: 0.9691 - val_loss: 0.4984 - val_accuracy: 0.8636\n",
            "Epoch 10/10\n",
            "25000/25000 [==============================] - 158s 6ms/step - loss: 0.0668 - accuracy: 0.9770 - val_loss: 0.6013 - val_accuracy: 0.8638\n"
          ],
          "name": "stdout"
        },
        {
          "output_type": "execute_result",
          "data": {
            "text/plain": [
              "<keras.callbacks.callbacks.History at 0x7f0cf1badf28>"
            ]
          },
          "metadata": {
            "tags": []
          },
          "execution_count": 8
        }
      ]
    },
    {
      "cell_type": "code",
      "metadata": {
        "id": "z_xZxj5CxIuP",
        "colab_type": "code",
        "colab": {
          "base_uri": "https://localhost:8080/",
          "height": 50
        },
        "outputId": "5e2da5db-9a89-4515-c384-bbe60fe7ec04"
      },
      "source": [
        "y_pred=model.predict_classes(x_test)\n",
        "from sklearn.metrics import accuracy_score, classification_report, confusion_matrix\n",
        "confusion_matrix(y_pred, y_test)"
      ],
      "execution_count": 9,
      "outputs": [
        {
          "output_type": "execute_result",
          "data": {
            "text/plain": [
              "array([[10976,  1882],\n",
              "       [ 1524, 10618]])"
            ]
          },
          "metadata": {
            "tags": []
          },
          "execution_count": 9
        }
      ]
    },
    {
      "cell_type": "code",
      "metadata": {
        "id": "HIjwrzz9xIuU",
        "colab_type": "code",
        "colab": {
          "base_uri": "https://localhost:8080/",
          "height": 33
        },
        "outputId": "67cc7fd0-ea78-4024-b4e3-73ec419cbea5"
      },
      "source": [
        "print(accuracy_score(y_test, y_pred))"
      ],
      "execution_count": 10,
      "outputs": [
        {
          "output_type": "stream",
          "text": [
            "0.86376\n"
          ],
          "name": "stdout"
        }
      ]
    },
    {
      "cell_type": "code",
      "metadata": {
        "id": "iZP-gU3oxIua",
        "colab_type": "code",
        "colab": {
          "base_uri": "https://localhost:8080/",
          "height": 167
        },
        "outputId": "8f888f16-3dca-4c0f-cf14-6857601fef59"
      },
      "source": [
        "print(classification_report(y_test, y_pred))"
      ],
      "execution_count": 11,
      "outputs": [
        {
          "output_type": "stream",
          "text": [
            "              precision    recall  f1-score   support\n",
            "\n",
            "           0       0.85      0.88      0.87     12500\n",
            "           1       0.87      0.85      0.86     12500\n",
            "\n",
            "    accuracy                           0.86     25000\n",
            "   macro avg       0.86      0.86      0.86     25000\n",
            "weighted avg       0.86      0.86      0.86     25000\n",
            "\n"
          ],
          "name": "stdout"
        }
      ]
    },
    {
      "cell_type": "code",
      "metadata": {
        "id": "5eF3VGDixIuf",
        "colab_type": "code",
        "colab": {}
      },
      "source": [
        ""
      ],
      "execution_count": 0,
      "outputs": []
    }
  ]
}